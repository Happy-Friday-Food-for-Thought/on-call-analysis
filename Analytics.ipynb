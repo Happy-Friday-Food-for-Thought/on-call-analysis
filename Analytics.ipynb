{
 "cells": [
  {
   "cell_type": "code",
   "execution_count": null,
   "id": "c7c20fb0-5db0-4a19-873c-cca8b4eabc61",
   "metadata": {},
   "outputs": [],
   "source": [
    "%matplotlib inline\n",
    "\n",
    "import pandas as pd\n",
    "from lets_plot import *\n",
    "LetsPlot.setup_html()"
   ]
  },
  {
   "cell_type": "markdown",
   "source": [
    "## Get the data from Pagerduty\n",
    "\n",
    "You will need to run `poetry run oncall-analysis pagerduty analytics --start-date 2023-01-01` to get data"
   ],
   "metadata": {
    "collapsed": false
   }
  },
  {
   "cell_type": "code",
   "execution_count": null,
   "id": "bdb410d3-eb2b-423a-b2bb-18b09a45bf64",
   "metadata": {},
   "outputs": [],
   "source": [
    "df = pd.read_csv(\"data/analytics.csv\")\n",
    "df = df.assign(week=df.range_start.str[:-9]).sort_values('week')\n",
    "df"
   ]
  },
  {
   "cell_type": "code",
   "execution_count": null,
   "id": "397e3c89",
   "metadata": {
    "collapsed": false,
    "jupyter": {
     "outputs_hidden": false
    }
   },
   "outputs": [],
   "source": [
    "(\n",
    "    ggplot(df, aes(x='week', y='total_notifications')) + ggsize(700, 300) +\n",
    "    geom_bar(fill=\"#b3cde3\", alpha=.7, stat='identity')  + \n",
    "    theme(panel_grid_major_x='blank') +\n",
    "    labs(x='Week', y='Incident Count', title='Total Incident Count by Week')\n",
    ")"
   ]
  },
  {
   "cell_type": "code",
   "execution_count": null,
   "outputs": [],
   "source": [
    "data = pd.concat([\n",
    "    df.assign(hours=df.total_business_hour_interruptions).assign(type='business hours'),\n",
    "    df.assign(hours=df.total_off_hour_interruptions).assign(type='off hours'),\n",
    "    df.assign(hours=df.total_sleep_hour_interruptions).assign(type='sleep hours'),\n",
    "])\n",
    "\n",
    "from lets_plot import *\n",
    "LetsPlot.setup_html()\n",
    "\n",
    "(\n",
    "        ggplot(data) +\n",
    "        geom_bar(aes(x='week', y='hours', fill='type'), stat='identity', position='stack', \n",
    "                 tooltips=layer_tooltips()\n",
    "                 .line('@hours - @type')\n",
    "                 .format('@hours', '.0f')\n",
    "                 ) +\n",
    "        ggsize(700, 500) +\n",
    "        ggtitle('Interrupted hours by week') +\n",
    "        scale_fill_manual(values=['#57B894', '#FECE6B', '#DE6C47']) +\n",
    "        xlab('Week') +\n",
    "        ylab('# of Hours')\n",
    ")\n"
   ],
   "metadata": {
    "collapsed": false
   }
  }
 ],
 "metadata": {
  "kernelspec": {
   "display_name": "Python 3 (ipykernel)",
   "language": "python",
   "name": "python3"
  },
  "language_info": {
   "codemirror_mode": {
    "name": "ipython",
    "version": 3
   },
   "file_extension": ".py",
   "mimetype": "text/x-python",
   "name": "python",
   "nbconvert_exporter": "python",
   "pygments_lexer": "ipython3",
   "version": "3.11.4"
  }
 },
 "nbformat": 4,
 "nbformat_minor": 5
}
